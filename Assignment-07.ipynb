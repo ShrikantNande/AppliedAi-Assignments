{
 "cells": [
  {
   "cell_type": "markdown",
   "metadata": {},
   "source": [
    "# <center> Logistic regression </center>"
   ]
  },
  {
   "cell_type": "code",
   "execution_count": 1,
   "metadata": {},
   "outputs": [],
   "source": [
    "#Ignore wornings\n",
    "import warnings\n",
    "warnings.filterwarnings('ignore')"
   ]
  },
  {
   "cell_type": "code",
   "execution_count": 2,
   "metadata": {},
   "outputs": [],
   "source": [
    "#Data handling\n",
    "import numpy as np\n",
    "import pandas as pd\n",
    "import matplotlib.pyplot as plt"
   ]
  },
  {
   "cell_type": "code",
   "execution_count": 3,
   "metadata": {},
   "outputs": [],
   "source": [
    "#Data split and vecter_conversion(BOW)\n",
    "import seaborn as sns \n",
    "from sklearn.feature_extraction.text import CountVectorizer\n",
    "from sklearn.model_selection import train_test_split"
   ]
  },
  {
   "cell_type": "code",
   "execution_count": 4,
   "metadata": {},
   "outputs": [],
   "source": [
    "# Logistic regression model selection and confussion matrix calculation\n",
    "from sklearn.model_selection import GridSearchCV\n",
    "from sklearn.model_selection import RandomizedSearchCV\n",
    "from sklearn.linear_model import LogisticRegression\n",
    "from sklearn.metrics import average_precision_score,f1_score,precision_score,recall_score,auc,log_loss,confusion_matrix\n"
   ]
  },
  {
   "cell_type": "code",
   "execution_count": 5,
   "metadata": {},
   "outputs": [],
   "source": [
    "# Read dataset (Clean_dataset with it's score)\n",
    "data = pd.read_csv(\"/home/shri/Documents/file1.csv\")\n",
    "data = data[[\"Score\",\"text\"]]\n",
    "clean_data = data['text'].tolist()"
   ]
  },
  {
   "cell_type": "markdown",
   "metadata": {},
   "source": [
    "# BOW"
   ]
  },
  {
   "cell_type": "code",
   "execution_count": 6,
   "metadata": {},
   "outputs": [],
   "source": [
    "# BOW vecter coversion \n",
    "counting_var = CountVectorizer(ngram_range = (1,2), min_df=10, max_features=4000)\n",
    "bi_gram = counting_var.fit_transform(np.array(clean_data))"
   ]
  },
  {
   "cell_type": "code",
   "execution_count": 7,
   "metadata": {},
   "outputs": [
    {
     "data": {
      "text/plain": [
       "1500"
      ]
     },
     "execution_count": 7,
     "metadata": {},
     "output_type": "execute_result"
    }
   ],
   "source": [
    "# Score\n",
    "scores = data['Score'].get_values()\n",
    "len(scores)"
   ]
  },
  {
   "cell_type": "code",
   "execution_count": 8,
   "metadata": {},
   "outputs": [],
   "source": [
    "# Array coversion\n",
    "def convToNpArray(arr):\n",
    "    if(type(arr) == list):\n",
    "        arr = np.array(arr)\n",
    "        return arr\n",
    "    else:\n",
    "        return arr;"
   ]
  },
  {
   "cell_type": "code",
   "execution_count": 9,
   "metadata": {},
   "outputs": [],
   "source": [
    "# Bi_gram vecters : select 1500\n",
    "x = bi_gram[0:1500]\n",
    "# Score/rating  of data\n",
    "y = scores[0:1500]\n",
    "\n",
    "# train and test split\n",
    "x_1, x_test, y_1, y_test = train_test_split(x,y, test_size=0.3, random_state=0)\n",
    "\n",
    "x_1 = convToNpArray(x_1)\n",
    "x_test = convToNpArray(x_test)\n",
    "y_1 = convToNpArray(y_1)\n",
    "y_test = convToNpArray(y_test)"
   ]
  },
  {
   "cell_type": "code",
   "execution_count": 19,
   "metadata": {},
   "outputs": [],
   "source": [
    "def confusionMatrix(y_test,pred):\n",
    "    '''\n",
    "    Confusion Matrix\n",
    "    '''\n",
    "    tn, fp, fn, tp = confusion_matrix(y_test, pred).ravel()\n",
    "    tpr = tp/(fn+tp)\n",
    "    tnr = tn/(tn+fp)\n",
    "    fnr = fn/(fn+tp)\n",
    "    fpr = fp/(tn+fp)\n",
    "    print(\"#\"*75)\n",
    "    print(\"Confusion Matrix\")\n",
    "    print(\"TPR :%f \\nTNR : %f\\nFPR : %f \\nFNR: %f\"%(tpr,tnr,fpr,fnr))\n",
    "    print(\"#\"*75)"
   ]
  },
  {
   "cell_type": "code",
   "execution_count": 20,
   "metadata": {},
   "outputs": [],
   "source": [
    "lambda_values = [{'C':[10**-2,10**0,10,10**2,10**4, 10**6]}]"
   ]
  },
  {
   "cell_type": "markdown",
   "metadata": {},
   "source": [
    "### L1 Regularization"
   ]
  },
  {
   "cell_type": "code",
   "execution_count": 21,
   "metadata": {},
   "outputs": [
    {
     "name": "stdout",
     "output_type": "stream",
     "text": [
      "Score:  0.8511111111111112\n"
     ]
    }
   ],
   "source": [
    "model = LogisticRegression(C=0.01, penalty='l1',solver='liblinear');\n",
    "model.fit(x_1,y_1)\n",
    "\n",
    "print(\"Score: \",model.score(x_test,y_test))"
   ]
  },
  {
   "cell_type": "code",
   "execution_count": 25,
   "metadata": {},
   "outputs": [
    {
     "name": "stdout",
     "output_type": "stream",
     "text": [
      "###########################################################################\n",
      "Confusion Matrix\n",
      "TPR :0.793734 \n",
      "TNR : 0.253731\n",
      "FPR : 0.746269 \n",
      "FNR: 0.206266\n",
      "###########################################################################\n"
     ]
    }
   ],
   "source": [
    "Lr_Model = LogisticRegression(C=10000, class_weight='balanced', dual=False,\n",
    "          fit_intercept=True, intercept_scaling=1, max_iter=100,\n",
    "          multi_class='ovr', n_jobs=1, penalty='l1', random_state=None,\n",
    "          solver='liblinear', tol=0.0001, verbose=0, warm_start=False)\n",
    "Lr_Model.fit(x_1,y_1)\n",
    "pred = Lr_Model.predict(x_test)\n",
    "confusionMatrix(y_test,pred)"
   ]
  },
  {
   "cell_type": "markdown",
   "metadata": {},
   "source": [
    "### L2 Regularization"
   ]
  },
  {
   "cell_type": "code",
   "execution_count": 40,
   "metadata": {},
   "outputs": [
    {
     "name": "stdout",
     "output_type": "stream",
     "text": [
      "LogisticRegression(C=1000000, class_weight='balanced')\n",
      "Score:  0.8641655886157826\n"
     ]
    }
   ],
   "source": [
    "\n",
    "lr_model = LogisticRegression(class_weight='balanced',penalty='l2');\n",
    "model = GridSearchCV(lr_model,lambda_values,\n",
    "                     scoring='f1',cv=5,n_jobs=4)\n",
    "\n",
    "model.fit(x_1,y_1)\n",
    "\n",
    "print(model.best_estimator_)\n",
    "print(\"Score: \",model.score(x_test,y_test))\n"
   ]
  },
  {
   "cell_type": "code",
   "execution_count": 43,
   "metadata": {},
   "outputs": [
    {
     "name": "stdout",
     "output_type": "stream",
     "text": [
      "###########################################################################\n",
      "Confusion Matrix\n",
      "TPR :0.765013 \n",
      "TNR : 0.298507\n",
      "FPR : 0.701493 \n",
      "FNR: 0.234987\n",
      "###########################################################################\n"
     ]
    }
   ],
   "source": [
    "Lr_Model = LogisticRegression(C=10, class_weight='balanced', dual=False,\n",
    "          fit_intercept=True, intercept_scaling=1, max_iter=100,\n",
    "          multi_class='ovr', n_jobs=1, penalty='l1', random_state=None,\n",
    "          solver='liblinear', tol=0.0001, verbose=0, warm_start=False)\n",
    "Lr_Model.fit(x_1,y_1)\n",
    "pred = Lr_Model.predict(x_test)\n",
    "confusionMatrix(y_test,pred)"
   ]
  },
  {
   "cell_type": "markdown",
   "metadata": {},
   "source": [
    "# RandomizedSearchCV"
   ]
  },
  {
   "cell_type": "markdown",
   "metadata": {},
   "source": [
    "### L2 Regularization"
   ]
  },
  {
   "cell_type": "code",
   "execution_count": 47,
   "metadata": {},
   "outputs": [
    {
     "name": "stdout",
     "output_type": "stream",
     "text": [
      "###########################################################################\n",
      "LogisticRegression(C=1000000, class_weight='balanced')\n",
      "Score:  0.8641655886157826\n",
      "###########################################################################\n",
      "Confusion Matrix\n",
      "TPR :0.872063 \n",
      "TNR : 0.164179\n",
      "FPR : 0.835821 \n",
      "FNR: 0.127937\n",
      "###########################################################################\n"
     ]
    }
   ],
   "source": [
    "from scipy.stats import expon\n",
    "tuned_parameters = {'C':expon(scale=100)}\n",
    "\n",
    "model = RandomizedSearchCV(LogisticRegression(class_weight='balanced',penalty='l2'),lambda_values,\n",
    "                     scoring='f1',cv=5,n_jobs=4)\n",
    "\n",
    "model.fit(x_1,y_1)\n",
    "print(\"#\"*75)\n",
    "print(model.best_estimator_)\n",
    "print(\"Score: \",model.score(x_test,y_test))\n",
    "\n",
    "Lr_Model = model.best_estimator_\n",
    "Lr_Model.fit(x_1,y_1)\n",
    "pred = Lr_Model.predict(x_test)\n",
    "confusionMatrix(y_test,pred)"
   ]
  },
  {
   "cell_type": "markdown",
   "metadata": {},
   "source": [
    "### L2 Regularization With Score"
   ]
  },
  {
   "cell_type": "code",
   "execution_count": 48,
   "metadata": {},
   "outputs": [
    {
     "name": "stdout",
     "output_type": "stream",
     "text": [
      "C =  0.0001 , No.of non zero vals:  1032\n",
      "Score:  85.11111111111111\n",
      "Error:  14.888888888888886\n",
      "C =  0.001 , No.of non zero vals:  1032\n",
      "Score:  85.11111111111111\n",
      "Error:  14.888888888888886\n",
      "C =  0.01 , No.of non zero vals:  1032\n",
      "Score:  85.11111111111111\n",
      "Error:  14.888888888888886\n",
      "C =  0.1 , No.of non zero vals:  1032\n",
      "Score:  84.66666666666667\n",
      "Error:  15.333333333333332\n",
      "C =  1 , No.of non zero vals:  1032\n",
      "Score:  79.33333333333333\n",
      "Error:  20.666666666666668\n",
      "C =  10 , No.of non zero vals:  1032\n",
      "Score:  77.77777777777779\n",
      "Error:  22.22222222222222\n",
      "C =  100 , No.of non zero vals:  1032\n",
      "Score:  76.88888888888889\n",
      "Error:  23.111111111111114\n",
      "C =  1000 , No.of non zero vals:  1032\n",
      "Score:  75.77777777777777\n",
      "Error:  24.22222222222222\n"
     ]
    },
    {
     "data": {
      "image/png": "[encoded data removed]",
      "text/plain": [
       "<Figure size 432x288 with 1 Axes>"
      ]
     },
     "metadata": {
      "needs_background": "light"
     },
     "output_type": "display_data"
    }
   ],
   "source": [
    "li_of_c_vals = [0.0001,0.001,0.01,0.1,1,10,100,1000]\n",
    "li_of_errors=[]\n",
    "for i in li_of_c_vals:\n",
    "    model = LogisticRegression(C=i, penalty='l2')\n",
    "    model.fit(x_1,y_1)\n",
    "    w = model.coef_\n",
    "    err_val = 1-model.score(x_test,y_test);\n",
    "    print(\"C = \",i,\", No.of non zero vals: \",np.count_nonzero(w))\n",
    "    print(\"Score: \",(1-err_val)*100)\n",
    "    print(\"Error: \",(err_val)*100)\n",
    "    li_of_errors.append(err_val)\n",
    "\n",
    "plt.plot(li_of_c_vals,li_of_errors)\n",
    "plt.xlabel('C or 1/(lambda) value')\n",
    "plt.ylabel('Error Percentage')\n",
    "plt.show()"
   ]
  },
  {
   "cell_type": "code",
   "execution_count": null,
   "metadata": {},
   "outputs": [],
   "source": []
  }
 ],
 "metadata": {
  "kernelspec": {
   "display_name": "Python 3",
   "language": "python",
   "name": "python3"
  },
  "language_info": {
   "codemirror_mode": {
    "name": "ipython",
    "version": 3
   },
   "file_extension": ".py",
   "mimetype": "text/x-python",
   "name": "python",
   "nbconvert_exporter": "python",
   "pygments_lexer": "ipython3",
   "version": "3.6.9"
  }
 },
 "nbformat": 4,
 "nbformat_minor": 2
}
