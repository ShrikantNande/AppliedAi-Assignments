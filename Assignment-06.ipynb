{
 "cells": [
  {
   "cell_type": "code",
   "execution_count": 1,
   "metadata": {},
   "outputs": [],
   "source": [
    "import numpy as np\n",
    "import pandas as pd\n",
    "import matplotlib.pyplot as plt"
   ]
  },
  {
   "cell_type": "code",
   "execution_count": 2,
   "metadata": {},
   "outputs": [],
   "source": [
    "import seaborn as sns #for plotting\n",
    "from sklearn.feature_extraction.text import CountVectorizer\n",
    "from sklearn.feature_extraction.text import TfidfTransformer\n",
    "from sklearn.feature_extraction.text import TfidfVectorizer\n",
    "from sklearn.model_selection import train_test_split\n",
    "from sklearn.neighbors import KNeighborsClassifier\n",
    "from sklearn.metrics import accuracy_score\n",
    "from sklearn.model_selection import cross_val_score\n",
    "from sklearn.metrics import roc_curve, auc\n",
    "from nltk.stem.porter import PorterStemmer\n",
    "from tqdm import tqdm\n",
    "from sklearn.model_selection import TimeSeriesSplit\n",
    "from sklearn.naive_bayes import BernoulliNB\n",
    "from sklearn.metrics import average_precision_score,f1_score,precision_score,recall_score,auc,log_loss,confusion_matrix\n"
   ]
  },
  {
   "cell_type": "code",
   "execution_count": 3,
   "metadata": {},
   "outputs": [],
   "source": [
    "data = pd.read_csv(\"/home/shri/Documents/file1.csv\")\n",
    "data = data[[\"Score\",\"text\"]]\n",
    "clean_data = data['text'].tolist()"
   ]
  },
  {
   "cell_type": "code",
   "execution_count": 4,
   "metadata": {},
   "outputs": [
    {
     "data": {
      "text/html": [
       "<div>\n",
       "<style scoped>\n",
       "    .dataframe tbody tr th:only-of-type {\n",
       "        vertical-align: middle;\n",
       "    }\n",
       "\n",
       "    .dataframe tbody tr th {\n",
       "        vertical-align: top;\n",
       "    }\n",
       "\n",
       "    .dataframe thead th {\n",
       "        text-align: right;\n",
       "    }\n",
       "</style>\n",
       "<table border=\"1\" class=\"dataframe\">\n",
       "  <thead>\n",
       "    <tr style=\"text-align: right;\">\n",
       "      <th></th>\n",
       "      <th>Score</th>\n",
       "      <th>text</th>\n",
       "    </tr>\n",
       "  </thead>\n",
       "  <tbody>\n",
       "    <tr>\n",
       "      <th>0</th>\n",
       "      <td>1</td>\n",
       "      <td>received shipment could hardly wait try produc...</td>\n",
       "    </tr>\n",
       "    <tr>\n",
       "      <th>1</th>\n",
       "      <td>0</td>\n",
       "      <td>really good idea final product outstanding use...</td>\n",
       "    </tr>\n",
       "  </tbody>\n",
       "</table>\n",
       "</div>"
      ],
      "text/plain": [
       "   Score                                               text\n",
       "0      1  received shipment could hardly wait try produc...\n",
       "1      0  really good idea final product outstanding use..."
      ]
     },
     "execution_count": 4,
     "metadata": {},
     "output_type": "execute_result"
    }
   ],
   "source": [
    "data.head(2)"
   ]
  },
  {
   "cell_type": "markdown",
   "metadata": {},
   "source": [
    "## BOW Without optimal alpha"
   ]
  },
  {
   "cell_type": "code",
   "execution_count": 5,
   "metadata": {},
   "outputs": [
    {
     "name": "stdout",
     "output_type": "stream",
     "text": [
      "Shape of BOW : (1500, 1032)\n",
      "Unique words : 1032\n"
     ]
    }
   ],
   "source": [
    "counting_var = CountVectorizer(ngram_range = (1,2), min_df=10, max_features=4000)\n",
    "bi_gram = counting_var.fit_transform(np.array(clean_data))\n",
    "print(\"Shape of BOW : {}\".format(bi_gram.get_shape()))\n",
    "print(\"Unique words : {}\".format(bi_gram.get_shape()[1]))"
   ]
  },
  {
   "cell_type": "code",
   "execution_count": 6,
   "metadata": {},
   "outputs": [
    {
     "name": "stderr",
     "output_type": "stream",
     "text": [
      "/usr/local/lib/python3.6/dist-packages/ipykernel_launcher.py:1: FutureWarning: The 'get_values' method is deprecated and will be removed in a future version. Use '.to_numpy()' or '.array' instead.\n",
      "  \"\"\"Entry point for launching an IPython kernel.\n"
     ]
    },
    {
     "data": {
      "text/plain": [
       "1500"
      ]
     },
     "execution_count": 6,
     "metadata": {},
     "output_type": "execute_result"
    }
   ],
   "source": [
    "scores = data['Score'].get_values()\n",
    "len(scores)"
   ]
  },
  {
   "cell_type": "code",
   "execution_count": 7,
   "metadata": {},
   "outputs": [],
   "source": [
    "# Total data frame\n",
    "x = bi_gram[0:10000]\n",
    "# this is only Score/rating  of data\n",
    "y = scores"
   ]
  },
  {
   "cell_type": "code",
   "execution_count": 8,
   "metadata": {},
   "outputs": [
    {
     "data": {
      "text/plain": [
       "(1500, 1032)"
      ]
     },
     "execution_count": 8,
     "metadata": {},
     "output_type": "execute_result"
    }
   ],
   "source": [
    "x.shape"
   ]
  },
  {
   "cell_type": "code",
   "execution_count": 9,
   "metadata": {},
   "outputs": [],
   "source": [
    "#splitting the train and test data\n",
    "\n",
    "X_train, X_test, Y_train, Y_test = train_test_split(x,y, test_size=0.3, random_state=0)\n"
   ]
  },
  {
   "cell_type": "code",
   "execution_count": 10,
   "metadata": {},
   "outputs": [],
   "source": [
    "#x_1 = np.array(x_1)\n",
    "\n",
    "Y_train = np.array(Y_train)\n",
    "\n",
    "#x_test = np.array(x_test)\n",
    "\n",
    "y_test = np.array(Y_test)\n",
    "\n"
   ]
  },
  {
   "cell_type": "code",
   "execution_count": 11,
   "metadata": {},
   "outputs": [],
   "source": [
    "clf = BernoulliNB(alpha=1, binarize=0.0, class_prior=None, fit_prior=True)\n",
    "clf.fit(X_train,Y_train)            \n",
    "pred = clf.predict(X_test)"
   ]
  },
  {
   "cell_type": "code",
   "execution_count": 12,
   "metadata": {},
   "outputs": [
    {
     "name": "stdout",
     "output_type": "stream",
     "text": [
      "Accuracy Of NB Classifier using Accuracy Score:  75.55555555555556\n",
      "Accuracy Of NB Classifier using F1 Score:  85.82474226804123\n",
      "Accuracy Of NB Classifier Precision Score:  84.7328244274809\n",
      "Accuracy Of NB Classifier using Recall Sscore:  86.94516971279373\n"
     ]
    }
   ],
   "source": [
    "print(\"Accuracy Of NB Classifier using Accuracy Score: \",accuracy_score(Y_test,pred) * 100)\n",
    "print(\"Accuracy Of NB Classifier using F1 Score: \",f1_score(Y_test,pred) * 100)\n",
    "print(\"Accuracy Of NB Classifier Precision Score: \",precision_score(Y_test,pred) * 100)\n",
    "print(\"Accuracy Of NB Classifier using Recall Sscore: \",recall_score(Y_test,pred) * 100)"
   ]
  },
  {
   "cell_type": "code",
   "execution_count": 13,
   "metadata": {},
   "outputs": [
    {
     "name": "stdout",
     "output_type": "stream",
     "text": [
      "Area Under The Curve is :  0.4869646545341179\n",
      "Log Loss val can be 0 to infinity, 0 is best Our LogLoss is: 8.442918620635526\n"
     ]
    }
   ],
   "source": [
    "fpr, tpr, thresholds = roc_curve(Y_test,pred)\n",
    "acc = auc(fpr, tpr)\n",
    "print(\"Area Under The Curve is : \",acc)\n",
    "print(\"Log Loss val can be 0 to infinity, 0 is best Our LogLoss is:\",log_loss(Y_test, pred,normalize=True) )"
   ]
  },
  {
   "cell_type": "code",
   "execution_count": 14,
   "metadata": {},
   "outputs": [
    {
     "name": "stdout",
     "output_type": "stream",
     "text": [
      "Confusion Matrix\n",
      "TPR :0.869452,TNR : 0.104478,FNR : 0.130548,FPR: 0.895522\n"
     ]
    }
   ],
   "source": [
    "print(\"Confusion Matrix\")\n",
    "tn, fp, fn, tp = confusion_matrix(Y_test, pred).ravel()\n",
    "tpr = tp/(fn+tp)\n",
    "tnr = tn/(tn+fp)\n",
    "fnr = fn/(fn+tp)\n",
    "fpr = fp/(tn+fp)\n",
    "\n",
    "print(\"TPR :%f,TNR : %f,FNR : %f,FPR: %f\"%(tpr,tnr,fnr,fpr))"
   ]
  },
  {
   "cell_type": "markdown",
   "metadata": {},
   "source": [
    "# Using Optimal Alpha :"
   ]
  },
  {
   "cell_type": "markdown",
   "metadata": {},
   "source": [
    "## * BOW"
   ]
  },
  {
   "cell_type": "code",
   "execution_count": 15,
   "metadata": {},
   "outputs": [],
   "source": [
    "def convToNpArray(arr):\n",
    "    if(type(arr) == list):\n",
    "        print(\"mp\")\n",
    "        arr = np.array(arr)\n",
    "        return arr\n",
    "    else:\n",
    "        return arr;"
   ]
  },
  {
   "cell_type": "code",
   "execution_count": 16,
   "metadata": {},
   "outputs": [],
   "source": [
    "def alpha_cross_validation(x,y,alphas):\n",
    "    #list of alpha values\n",
    "    x_train, x_test, y_train, y_test = train_test_split(x,y, test_size=0.3, random_state=0)\n",
    "    \n",
    "    x_train = convToNpArray(x_train)\n",
    "    x_test = convToNpArray(x_test)\n",
    "    y_train = convToNpArray(y_train)\n",
    "    y_test = convToNpArray(y_test)\n",
    "\n",
    "    Alphas = list(range(1,alphas));\n",
    "    \n",
    "    tscv_scores = []\n",
    "    \n",
    "    for alph in Alphas:\n",
    "        \n",
    "        tscv = TimeSeriesSplit(n_splits=5)\n",
    "\n",
    "        for train_index, test_index in tscv.split(x_train):\n",
    "            X_train, X_test = x_train[train_index], x_train[test_index]\n",
    "            Y_train, Y_test = y_train[train_index], y_train[test_index]\n",
    "            \n",
    "            #alpha is used to avoide Errors, its ntg but Laplace Smoothing\n",
    "            # Binarize=0 or any num indicates it converts every feature into bin value as it supports only bin values\n",
    "            clf = BernoulliNB(alpha=alph, binarize=0.0, class_prior=None, fit_prior=True)\n",
    "            clf.fit(X_train,Y_train)\n",
    "            \n",
    "            pred = clf.predict(X_test)\n",
    "            acc = accuracy_score(Y_test, pred, normalize=True )*float(100)\n",
    "        tscv_scores.append(acc)\n",
    "\n",
    "    # determining best Alpha\n",
    "    optimal_alpha = Alphas[tscv_scores.index(max(tscv_scores))]\n",
    "    print(\"optimal Alpha based on Accuracy Percentage: \",optimal_alpha)\n",
    "    plt.rcParams['figure.figsize'] = [20,10]\n",
    "    plt.plot(Alphas, tscv_scores)\n",
    "    \n",
    "    for xy in zip(Alphas, np.round(tscv_scores,3)):\n",
    "        plt.annotate('(%s, %s)' % xy, xy=xy, textcoords='data')\n",
    "\n",
    "    plt.xlabel('Alpha')\n",
    "    plt.ylabel('Accuracy Percentage')\n",
    "    plt.show()\n",
    "    "
   ]
  },
  {
   "cell_type": "code",
   "execution_count": 17,
   "metadata": {},
   "outputs": [
    {
     "name": "stdout",
     "output_type": "stream",
     "text": [
      "optimal Alpha based on Accuracy Percentage:  24\n"
     ]
    },
    {
     "data": {
      "image/png": "[encoded data removed]",
      "text/plain": [
       "<Figure size 1440x720 with 1 Axes>"
      ]
     },
     "metadata": {
      "needs_background": "light"
     },
     "output_type": "display_data"
    }
   ],
   "source": [
    "alpha_cross_validation(x,y,30)"
   ]
  },
  {
   "cell_type": "code",
   "execution_count": 18,
   "metadata": {},
   "outputs": [],
   "source": [
    "def alpha_cv_matrix(x,y,alpha):\n",
    "    #list of alpha values\n",
    "    x_train, x_test, y_train, y_test = train_test_split(x,y, test_size=0.3, random_state=0)\n",
    "    \n",
    "    x_train = convToNpArray(x_train)\n",
    "    x_test = convToNpArray(x_test)\n",
    "    y_train = convToNpArray(y_train)\n",
    "    y_test = convToNpArray(y_test)\n",
    "\n",
    "    \n",
    "    NB_Optimal = BernoulliNB(alpha=alpha, binarize=0.0, class_prior=None, fit_prior=True)\n",
    "\n",
    "    NB_Optimal.fit(x_train,y_train)\n",
    "\n",
    "    pred = NB_Optimal.predict(x_test)\n",
    "\n",
    "    print(\"#\"*75)\n",
    "\n",
    "    print(\"Accuracy Of NB Classifier using Accuracy Score: \",accuracy_score(y_test,pred) * 100)\n",
    "\n",
    "    print(\"Accuracy Of NB Classifier using F1 Score: \",f1_score(y_test,pred) * 100)\n",
    "\n",
    "    print(\"Accuracy Of NB Classifier Precision Score: \",precision_score(y_test,pred) * 100)\n",
    "\n",
    "    print(\"Accuracy Of NB Classifier using Recall Sscore: \",recall_score(y_test,pred) * 100)\n",
    "\n",
    "\n",
    "    fpr, tpr, thresholds = roc_curve(y_test,pred)\n",
    "    acc = auc(fpr, tpr)\n",
    "    print(\"Area Under The Curve is : \",acc)\n",
    "\n",
    "    print(\"Log Loss val can be 0 to infinity, 0 is best Our LogLoss is:\",log_loss(y_test, pred,normalize=True) )\n",
    "\n",
    "    print(\"#\"*75)\n",
    "    print(\"Confusion Matrix\")\n",
    "    tn, fp, fn, tp = confusion_matrix(y_test, pred).ravel()\n",
    "    tpr = tp/(fn+tp)\n",
    "    tnr = tn/(tn+fp)\n",
    "    fnr = fn/(fn+tp)\n",
    "    fpr = fp/(tn+fp)\n",
    "\n",
    "    print(\"TPR :%f,TNR : %f,FNR : %f,FPR: %f\"%(tpr,tnr,fnr,fpr))"
   ]
  },
  {
   "cell_type": "code",
   "execution_count": 19,
   "metadata": {},
   "outputs": [
    {
     "name": "stdout",
     "output_type": "stream",
     "text": [
      "###########################################################################\n",
      "Accuracy Of NB Classifier using Accuracy Score:  84.44444444444444\n",
      "Accuracy Of NB Classifier using F1 Score:  91.56626506024095\n",
      "Accuracy Of NB Classifier Precision Score:  85.01118568232661\n",
      "Accuracy Of NB Classifier using Recall Sscore:  99.21671018276761\n",
      "Area Under The Curve is :  0.4960835509138381\n",
      "Log Loss val can be 0 to infinity, 0 is best Our LogLoss is: 5.37281760149238\n",
      "###########################################################################\n",
      "Confusion Matrix\n",
      "TPR :0.992167,TNR : 0.000000,FNR : 0.007833,FPR: 1.000000\n"
     ]
    }
   ],
   "source": [
    "alpha_cv_matrix(x,y,24)"
   ]
  },
  {
   "cell_type": "markdown",
   "metadata": {},
   "source": [
    "##  * Tf_idf"
   ]
  },
  {
   "cell_type": "code",
   "execution_count": 20,
   "metadata": {},
   "outputs": [],
   "source": [
    "tf_idf = TfidfVectorizer()\n",
    "tf_idf.fit(np.array(clean_data))\n",
    "tf_idf = tf_idf.transform(np.array(clean_data))"
   ]
  },
  {
   "cell_type": "code",
   "execution_count": 21,
   "metadata": {},
   "outputs": [],
   "source": [
    "\n",
    "# Total data frame\n",
    "\n",
    "x = tf_idf[0:1500]\n",
    "\n",
    "# this is only Score/rating  of data\n",
    "\n",
    "y = scores"
   ]
  },
  {
   "cell_type": "code",
   "execution_count": 22,
   "metadata": {},
   "outputs": [
    {
     "name": "stdout",
     "output_type": "stream",
     "text": [
      "optimal Alpha based on Accuracy Percentage:  5\n"
     ]
    },
    {
     "data": {
      "image/png": "[encoded data removed]",
      "text/plain": [
       "<Figure size 1440x720 with 1 Axes>"
      ]
     },
     "metadata": {
      "needs_background": "light"
     },
     "output_type": "display_data"
    }
   ],
   "source": [
    "alpha_cross_validation(x,y,30)"
   ]
  },
  {
   "cell_type": "code",
   "execution_count": 23,
   "metadata": {},
   "outputs": [
    {
     "name": "stdout",
     "output_type": "stream",
     "text": [
      "###########################################################################\n",
      "Accuracy Of NB Classifier using Accuracy Score:  84.88888888888889\n",
      "Accuracy Of NB Classifier using F1 Score:  91.82692307692308\n",
      "Accuracy Of NB Classifier Precision Score:  85.07795100222717\n",
      "Accuracy Of NB Classifier using Recall Sscore:  99.73890339425587\n",
      "Area Under The Curve is :  0.49869451697127937\n",
      "Log Loss val can be 0 to infinity, 0 is best Our LogLoss is: 5.2193119286261105\n",
      "###########################################################################\n",
      "Confusion Matrix\n",
      "TPR :0.997389,TNR : 0.000000,FNR : 0.002611,FPR: 1.000000\n"
     ]
    }
   ],
   "source": [
    "alpha_cv_matrix(x,y,5)"
   ]
  }
 ],
 "metadata": {
  "kernelspec": {
   "display_name": "Python 3",
   "language": "python",
   "name": "python3"
  },
  "language_info": {
   "codemirror_mode": {
    "name": "ipython",
    "version": 3
   },
   "file_extension": ".py",
   "mimetype": "text/x-python",
   "name": "python",
   "nbconvert_exporter": "python",
   "pygments_lexer": "ipython3",
   "version": "3.6.9"
  }
 },
 "nbformat": 4,
 "nbformat_minor": 2
}
