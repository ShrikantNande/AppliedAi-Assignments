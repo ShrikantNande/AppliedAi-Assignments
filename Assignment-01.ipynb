{
 "cells": [
  {
   "cell_type": "markdown",
   "metadata": {},
   "source": [
    "# Matrix Multiplication"
   ]
  },
  {
   "cell_type": "code",
   "execution_count": 2,
   "metadata": {},
   "outputs": [
    {
     "data": {
      "text/plain": [
       "[[1, 3, 2, 3], [4, 3, 5, 6], [7, 8, 9, 3], [1, 2, 3, 4]]"
      ]
     },
     "execution_count": 2,
     "metadata": {},
     "output_type": "execute_result"
    }
   ],
   "source": [
    "a = [[1,3, 2,3],[4,3,5,6],[7,8,9,3],[1,2,3,4]]\n",
    "b = [[1,0,0,0],[0,1,0,0],[0,0,1,0],[0,0,0,1]]\n",
    "\n",
    "def Multiplication(a,b):\n",
    "    \"\"\"\n",
    "    Matrix Multiplication\n",
    "    \"\"\"\n",
    "    if len(a) ==len(b):\n",
    "        result_list = []\n",
    "        result_matrix = []\n",
    "\n",
    "        for i in range(len(a)):\n",
    "            for j in range(len(b)):\n",
    "                add = 0\n",
    "                for k in range(len(a)):\n",
    "                    add = add + a[i][k] * b[k][j]\n",
    "                result_list.append(add)\n",
    "        for k in range(0, len(a)*len(b), len(a)):\n",
    "            result_matrix.append(result_list[k:k+len(a)])\n",
    "        return result_matrix\n",
    "    else:\n",
    "        return(\"Matrix multiplication is not possible [Not same Dimentions]\")\n",
    "Multiplication(a,b)\n"
   ]
  },
  {
   "cell_type": "code",
   "execution_count": 3,
   "metadata": {},
   "outputs": [
    {
     "name": "stdout",
     "output_type": "stream",
     "text": [
      "[[1 3 2 3]\n",
      " [4 3 5 6]\n",
      " [7 8 9 3]\n",
      " [1 2 3 4]]\n"
     ]
    }
   ],
   "source": [
    "import numpy as np\n",
    "print(np.dot(a,b))"
   ]
  },
  {
   "cell_type": "markdown",
   "metadata": {},
   "source": [
    "# Replace numbers with \"#\""
   ]
  },
  {
   "cell_type": "code",
   "execution_count": 7,
   "metadata": {},
   "outputs": [
    {
     "name": "stdout",
     "output_type": "stream",
     "text": [
      "###\n",
      "###\n",
      "\n",
      "####\n"
     ]
    }
   ],
   "source": [
    "import re\n",
    "\n",
    "#INPUT'S\n",
    "A = \"234\" \n",
    "B = \"a2b3c4\" \n",
    "C = \"abc\" \n",
    "D = \"#2a$#b%c%561#\"\n",
    "\n",
    "def replace(s):\n",
    "    \"\"\"\n",
    "    Replace numbers with #\n",
    "    \"\"\"\n",
    "    if type(s) == str:\n",
    "        s = re.sub(\"[^0-9]\",\"\",str(s))\n",
    "        s =re.sub(\"\\d\",\"#\", s)\n",
    "        print(s)\n",
    "    else:\n",
    "        return \"Please Enter valid string\"\n",
    "    \n",
    "replace(A)\n",
    "replace(B)\n",
    "replace(C)\n",
    "replace(D)"
   ]
  },
  {
   "cell_type": "markdown",
   "metadata": {},
   "source": [
    "# Print name of students"
   ]
  },
  {
   "cell_type": "code",
   "execution_count": 8,
   "metadata": {},
   "outputs": [
    {
     "name": "stdout",
     "output_type": "stream",
     "text": [
      "Who got top 5 ranks\n",
      "Name : student8\n",
      "Marks: 98\n",
      "Name : student10\n",
      "Marks: 80\n",
      "Name : student2\n",
      "Marks: 78\n",
      "Name : student5\n",
      "Marks: 48\n",
      "Name : student7\n",
      "Marks: 47\n",
      "\n",
      "\n",
      "Who got least 5 ranks\n",
      "Name : student3\n",
      "Marks  12\n",
      "Name : student4\n",
      "Marks  14\n",
      "Name : student9\n",
      "Marks  35\n",
      "Name : student6\n",
      "Marks  43\n",
      "Name : student1\n",
      "Marks  45\n",
      "\n",
      "\n",
      "Who got marks in IQR\n",
      "Name : student1\n",
      "Marks : 45\n",
      "Name : student5\n",
      "Marks : 48\n",
      "Name : student6\n",
      "Marks : 43\n",
      "Name : student7\n",
      "Marks : 47\n",
      "Name : student9\n",
      "Marks : 35\n"
     ]
    }
   ],
   "source": [
    "Students=['student1','student2','student3','student4','student5','student6','student7','student8','student9','student10'] \n",
    "Marks = [45, 78, 12, 14, 48, 43, 47, 98, 35, 80]\n",
    "\n",
    "def get_student(Students,Marks):\n",
    "    \"\"\"\n",
    "    print Who got top 5 ranks, Who got least 5 ranks and Who got marks in IQR \n",
    "    \"\"\"\n",
    "    dic = dict(zip(Students,Marks))\n",
    "\n",
    "    print(\"Who got top 5 ranks\")\n",
    "    first_five = (sorted(dic.values())[5:])[::-1]\n",
    "    for m in first_five:\n",
    "        print(\"Name :\", list(dic.keys())[list(dic.values()).index(m)])\n",
    "        print(\"Marks:\", m)\n",
    "    \n",
    "    print(\"\\n\")\n",
    "    \n",
    "    print(\"Who got least 5 ranks\")\n",
    "    last_five = (sorted(dic.values())[:5])\n",
    "    for m in last_five:\n",
    "        print(\"Name :\", list(dic.keys())[list(dic.values()).index(m)])\n",
    "        print(\"Marks \", m )\n",
    "    \n",
    "    print(\"\\n\")\n",
    "    \n",
    "    print(\"Who got marks in IQR\")\n",
    "    for m in dic.values():\n",
    "        if ( m >= 25 and m <= 75 ):\n",
    "            print(\"Name :\", list(dic.keys())[list(dic.values()).index(m)])\n",
    "            print(\"Marks :\", m)\n",
    "            \n",
    "        else:\n",
    "            pass\n",
    "        \n",
    "\n",
    "get_student(Students,Marks)"
   ]
  },
  {
   "cell_type": "code",
   "execution_count": null,
   "metadata": {},
   "outputs": [],
   "source": [
    "# "
   ]
  },
  {
   "cell_type": "code",
   "execution_count": 9,
   "metadata": {},
   "outputs": [
    {
     "name": "stdout",
     "output_type": "stream",
     "text": [
      "Closes point from P :\n",
      "Distance from P(3,4) point to the (5, 3)\n",
      "Distance from P(3,4) point to the (2, 1)\n",
      "Distance from P(3,4) point to the (-1, 2)\n",
      "Distance from P(3,4) point to the (4, -1)\n",
      "Distance from P(3,4) point to the (-3, 4)\n"
     ]
    }
   ],
   "source": [
    "import math\n",
    "\n",
    "P = (3,4)\n",
    "S = [(2,-1), (5,3),(4,-1),(2,1),(2,-3),(-1,2),(-3,4),(-4,2)]\n",
    "distance = {}\n",
    "\n",
    "def close_points(point,point_list):\n",
    "    for i in range(len(point_list)):\n",
    "        d = math.acos(((point_list[i][0]*point[0])+(point_list[i][1]*point[1]))/((math.sqrt((point_list[i][0]**2)+(point_list[i][1]**2))) *(math.sqrt((point[0]**2)+(point[1]**2)))))\n",
    "        distance[point_list[i]] = d\n",
    "\n",
    "    dis = sorted(distance.values())[:5]\n",
    "\n",
    "    print(\"Closes point from P :\")\n",
    "    for m in dis:\n",
    "        print(\"Distance from P(3,4) point to the {}\".format(list(distance.keys())[list(distance.values()).index(m)]))        \n",
    "    \n",
    "                        \n",
    "close_points(P, S)"
   ]
  },
  {
   "cell_type": "code",
   "execution_count": 3,
   "metadata": {},
   "outputs": [
    {
     "name": "stdout",
     "output_type": "stream",
     "text": [
      "Not classified \n",
      "Not classified \n",
      "Not classified \n",
      "classified using line 0x+-1y+-2\n"
     ]
    }
   ],
   "source": [
    "import re\n",
    "\n",
    "green =[(5,2),(2,1),(2,5)]\n",
    "red  =[(-2,-3),(-1,-4)]\n",
    "lines =[\"1x+1y+0\",\"1x-1y+0\",\"1x+0y-4\",\"0x-1y-2\"]\n",
    "\n",
    "\n",
    "def clf_classes(a,b,c):\n",
    "    g = []\n",
    "    rd= []\n",
    "    for i in range(len(green)):\n",
    "        r = ((a*green[i][0])+(b*green[i][1])+c)\n",
    "        g.append(r)\n",
    "\n",
    "    for i in range(len(red)):\n",
    "        s = ((a*red[i][0])+(b*red[i][1])+c)\n",
    "        rd.append(s)\n",
    "\n",
    "    finalrd = all(j > 0 for j in rd)\n",
    "    finalgr = all(j < 0 for j in g)\n",
    "\n",
    "    if (finalgr == True and finalrd == True):\n",
    "        print(\"classified using line {}x+{}y+{}\".format(a,b,c))\n",
    "    else:\n",
    "        print(\"Not classified \" )\n",
    "\n",
    "for line in lines:\n",
    "    a, b, c = [int(x.strip()) for x in re.split('x|y', line)]\n",
    "    clf_classes(a,b,c)\n"
   ]
  },
  {
   "cell_type": "code",
   "execution_count": null,
   "metadata": {},
   "outputs": [],
   "source": []
  }
 ],
 "metadata": {
  "kernelspec": {
   "display_name": "Python 3",
   "language": "python",
   "name": "python3"
  },
  "language_info": {
   "codemirror_mode": {
    "name": "ipython",
    "version": 3
   },
   "file_extension": ".py",
   "mimetype": "text/x-python",
   "name": "python",
   "nbconvert_exporter": "python",
   "pygments_lexer": "ipython3",
   "version": "3.6.9"
  }
 },
 "nbformat": 4,
 "nbformat_minor": 2
}
